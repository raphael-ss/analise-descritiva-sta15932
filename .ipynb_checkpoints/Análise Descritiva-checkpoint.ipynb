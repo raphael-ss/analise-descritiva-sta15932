{
 "cells": [
  {
   "cell_type": "markdown",
   "id": "32d0db1b",
   "metadata": {},
   "source": [
    "# Análise Descritiva - Dados do Seguro Médico nos EUA\n",
    "\n",
    "\n",
    "### *\"Como os fatores demográficos e comportamentais afetam o preço do seguro médico nos EUA\"*\n",
    "\n",
    "Primeiro, devemos observar como está estruturado o conjunto de dados:"
   ]
  },
  {
   "cell_type": "code",
   "execution_count": null,
   "id": "2af80f55",
   "metadata": {},
   "outputs": [],
   "source": [
    "#-Código"
   ]
  },
  {
   "cell_type": "markdown",
   "id": "cdf9360f",
   "metadata": {},
   "source": [
    "## Análise Descritiva - Métricas\n",
    "\n",
    "### Medidas de Tendência Central"
   ]
  },
  {
   "cell_type": "code",
   "execution_count": 1,
   "id": "646df266",
   "metadata": {},
   "outputs": [],
   "source": [
    "#-Código"
   ]
  },
  {
   "cell_type": "markdown",
   "id": "eb330583",
   "metadata": {},
   "source": [
    "### Medidas de Dispersão"
   ]
  },
  {
   "cell_type": "code",
   "execution_count": 2,
   "id": "f49e5f86",
   "metadata": {},
   "outputs": [],
   "source": [
    "#-Código"
   ]
  },
  {
   "cell_type": "markdown",
   "id": "0bc1a118",
   "metadata": {},
   "source": [
    "### Medidas de Posição"
   ]
  },
  {
   "cell_type": "code",
   "execution_count": 3,
   "id": "8ca0bb2a",
   "metadata": {},
   "outputs": [],
   "source": [
    "#-Código"
   ]
  },
  {
   "cell_type": "markdown",
   "id": "007fb881",
   "metadata": {},
   "source": [
    "## Análise Descritiva - Visualizações"
   ]
  },
  {
   "cell_type": "code",
   "execution_count": null,
   "id": "4f7a4d7b",
   "metadata": {},
   "outputs": [],
   "source": []
  }
 ],
 "metadata": {
  "kernelspec": {
   "display_name": "Python 3 (ipykernel)",
   "language": "python",
   "name": "python3"
  },
  "language_info": {
   "codemirror_mode": {
    "name": "ipython",
    "version": 3
   },
   "file_extension": ".py",
   "mimetype": "text/x-python",
   "name": "python",
   "nbconvert_exporter": "python",
   "pygments_lexer": "ipython3",
   "version": "3.10.9"
  }
 },
 "nbformat": 4,
 "nbformat_minor": 5
}
