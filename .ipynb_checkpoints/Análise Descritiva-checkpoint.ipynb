{
 "cells": [
  {
   "cell_type": "markdown",
   "id": "32d0db1b",
   "metadata": {},
   "source": [
    "# Análise Descritiva - Dados do Seguro Médico nos EUA\n",
    "\n",
    "\n",
    "### *\"Como os fatores demográficos e comportamentais afetam o preço do seguro médico nos EUA\"*\n",
    "\n",
    "Primeiro, devemos observar como está estruturado o conjunto de dados:"
   ]
  },
  {
   "cell_type": "code",
   "execution_count": 2,
   "id": "2af80f55",
   "metadata": {},
   "outputs": [
    {
     "name": "stdout",
     "output_type": "stream",
     "text": [
      "   age     sex     bmi  children smoker     region      charges\n",
      "0   19  female  27.900         0    yes  southwest  16884.92400\n",
      "1   18    male  33.770         1     no  southeast   1725.55230\n",
      "2   28    male  33.000         3     no  southeast   4449.46200\n",
      "3   33    male  22.705         0     no  northwest  21984.47061\n",
      "4   32    male  28.880         0     no  northwest   3866.85520\n",
      "5   31  female  25.740         0     no  southeast   3756.62160\n",
      "6   46  female  33.440         1     no  southeast   8240.58960\n",
      "7   37  female  27.740         3     no  northwest   7281.50560\n",
      "8   37    male  29.830         2     no  northeast   6406.41070\n",
      "9   60  female  25.840         0     no  northwest  28923.13692\n"
     ]
    }
   ],
   "source": [
    "import matplotlib.pyplot as plt\n",
    "import pandas as pd\n",
    "\n",
    "medical_insurance = pd.read_csv('insurance.csv')\n",
    "print(medical_insurance.head(10))"
   ]
  },
  {
   "cell_type": "markdown",
   "id": "cdf9360f",
   "metadata": {},
   "source": [
    "O conjunto possui 1338 registros ou linhas, e 7 colunas.\n",
    "Possui 4 variáveis numéricas/quantitativas, sendo 2 delas discretas e 2 contínuas, e 3 variáveis categóricas/qualitativas.\n",
    "\n",
    "## Análise Descritiva - Métricas\n",
    "\n",
    "### Medidas de Tendência Central\n",
    "\n",
    "#### Média\n",
    "\n",
    "A média pode ser calculada por: \n",
    "\n",
    "$$\\overline{x}=\\frac{1}{n} \\sum_{i=1}^{n} x_{i}=\\frac{1}{n}\\left(x_{1}+\\cdots+x_{n}\\right)$$\n",
    "\n",
    "Calculando a média para as variáveis quantitativas:"
   ]
  },
  {
   "cell_type": "code",
   "execution_count": 10,
   "id": "646df266",
   "metadata": {},
   "outputs": [
    {
     "name": "stdout",
     "output_type": "stream",
     "text": [
      "\n",
      "As médias das variáveis quantitativas/numéricas são:\n",
      "- Idade: 39.2 anos\n",
      "- IMC: 30.66 \n",
      "- N° de filhos: 1 filho\n",
      "- Custos: $13270,00\n",
      "\n"
     ]
    }
   ],
   "source": [
    "avg_age = round(medical_insurance.age.mean(), 1)\n",
    "avg_bmi = round(medical_insurance.bmi.mean(), 2)\n",
    "avg_n_of_children = round(medical_insurance.children.mean())\n",
    "avg_charges = round(medical_insurance.charges.mean())\n",
    "\n",
    "print(f\"\"\"\n",
    "As médias das variáveis quantitativas/numéricas são:\n",
    "- Idade: {avg_age} anos\n",
    "- IMC: {avg_bmi} \n",
    "- N° de filhos: {avg_n_of_children} filho\n",
    "- Custos: ${avg_charges},00\n",
    "\"\"\")"
   ]
  },
  {
   "cell_type": "markdown",
   "id": "9f6b5dd4",
   "metadata": {},
   "source": [
    "#### Mediana\n",
    "\n",
    "A mediana pode ser calculada colocando os valores em rol (ordem crescente), e fazendo:\n",
    "\n",
    "- Se o n° de valores for ímpar:\n",
    "$$x = \\text {Valor Mediano}$$\n",
    "\n",
    "- Se o n° de valores for par:\n"
   ]
  },
  {
   "cell_type": "code",
   "execution_count": null,
   "id": "d8fa9846",
   "metadata": {},
   "outputs": [],
   "source": []
  },
  {
   "cell_type": "markdown",
   "id": "eb330583",
   "metadata": {},
   "source": [
    "### Medidas de Dispersão"
   ]
  },
  {
   "cell_type": "code",
   "execution_count": 2,
   "id": "f49e5f86",
   "metadata": {},
   "outputs": [],
   "source": [
    "#-Código"
   ]
  },
  {
   "cell_type": "markdown",
   "id": "0bc1a118",
   "metadata": {},
   "source": [
    "### Medidas de Posição"
   ]
  },
  {
   "cell_type": "code",
   "execution_count": 3,
   "id": "8ca0bb2a",
   "metadata": {},
   "outputs": [],
   "source": [
    "#-Código"
   ]
  },
  {
   "cell_type": "markdown",
   "id": "007fb881",
   "metadata": {},
   "source": [
    "## Análise Descritiva - Visualizações"
   ]
  },
  {
   "cell_type": "code",
   "execution_count": null,
   "id": "4f7a4d7b",
   "metadata": {},
   "outputs": [],
   "source": []
  }
 ],
 "metadata": {
  "kernelspec": {
   "display_name": "Python 3 (ipykernel)",
   "language": "python",
   "name": "python3"
  },
  "language_info": {
   "codemirror_mode": {
    "name": "ipython",
    "version": 3
   },
   "file_extension": ".py",
   "mimetype": "text/x-python",
   "name": "python",
   "nbconvert_exporter": "python",
   "pygments_lexer": "ipython3",
   "version": "3.10.9"
  }
 },
 "nbformat": 4,
 "nbformat_minor": 5
}
