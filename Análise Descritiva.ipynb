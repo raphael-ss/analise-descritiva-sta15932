{
 "cells": [
  {
   "cell_type": "markdown",
   "id": "32d0db1b",
   "metadata": {},
   "source": [
    "# Análise Descritiva - Dados do Seguro Médico nos EUA\n",
    "\n",
    "\n",
    "### *\"Como os fatores demográficos e comportamentais afetam o preço do seguro médico nos EUA\"*\n",
    "\n",
    "Primeiro, devemos observar como está estruturado o conjunto de dados:"
   ]
  },
  {
   "cell_type": "code",
   "execution_count": 2,
   "id": "2af80f55",
   "metadata": {},
   "outputs": [
    {
     "name": "stdout",
     "output_type": "stream",
     "text": [
      "   age     sex     bmi  children smoker     region      charges\n",
      "0   19  female  27.900         0    yes  southwest  16884.92400\n",
      "1   18    male  33.770         1     no  southeast   1725.55230\n",
      "2   28    male  33.000         3     no  southeast   4449.46200\n",
      "3   33    male  22.705         0     no  northwest  21984.47061\n",
      "4   32    male  28.880         0     no  northwest   3866.85520\n",
      "5   31  female  25.740         0     no  southeast   3756.62160\n",
      "6   46  female  33.440         1     no  southeast   8240.58960\n",
      "7   37  female  27.740         3     no  northwest   7281.50560\n",
      "8   37    male  29.830         2     no  northeast   6406.41070\n",
      "9   60  female  25.840         0     no  northwest  28923.13692\n"
     ]
    }
   ],
   "source": [
    "import matplotlib.pyplot as plt\n",
    "import pandas as pd\n",
    "\n",
    "medical_insurance = pd.read_csv('insurance.csv')\n",
    "print(medical_insurance.head(10))"
   ]
  },
  {
   "cell_type": "markdown",
   "id": "cdf9360f",
   "metadata": {},
   "source": [
    "O conjunto possui 1338 registros ou linhas, e 7 colunas.\n",
    "Possui 4 variáveis numéricas/quantitativas, sendo 2 delas discretas e 2 contínuas, e 3 variáveis categóricas/qualitativas.\n",
    "\n",
    "## Análise Descritiva - Métricas\n",
    "\n",
    "### Medidas de Tendência Central\n",
    "\n",
    "#### Média\n",
    "\n",
    "A média pode ser calculada por: \n",
    "\n",
    "$$\\overline{x}=\\frac{1}{n} \\sum_{i=1}^{n} x_{i}=\\frac{1}{n}\\left(x_{1}+\\cdots+x_{n}\\right)$$\n",
    "\n",
    "Calculando a média para as variáveis quantitativas:"
   ]
  },
  {
   "cell_type": "code",
   "execution_count": 3,
   "id": "646df266",
   "metadata": {},
   "outputs": [
    {
     "name": "stdout",
     "output_type": "stream",
     "text": [
      "\n",
      "As médias das variáveis quantitativas/numéricas são:\n",
      "- Idade: 39.2 anos\n",
      "- IMC: 30.66 \n",
      "- N° de filhos: 1 filho\n",
      "- Custos: $13270,00\n",
      "\n"
     ]
    }
   ],
   "source": [
    "avg_age = round(medical_insurance.age.mean(), 1)\n",
    "avg_bmi = round(medical_insurance.bmi.mean(), 2)\n",
    "avg_n_of_children = round(medical_insurance.children.mean())\n",
    "avg_charges = round(medical_insurance.charges.mean())\n",
    "\n",
    "print(f\"\"\"\n",
    "As médias das variáveis quantitativas/numéricas são:\n",
    "- Idade: {avg_age} anos\n",
    "- IMC: {avg_bmi} \n",
    "- N° de filhos: {avg_n_of_children} filho\n",
    "- Custos: ${avg_charges},00\n",
    "\"\"\")"
   ]
  },
  {
   "cell_type": "code",
   "execution_count": 18,
   "id": "c7a1e26c",
   "metadata": {},
   "outputs": [
    {
     "name": "stdout",
     "output_type": "stream",
     "text": [
      "A média de filhos na região Sudeste é: 1.0494505494505495, 364, $14735.41\n"
     ]
    }
   ],
   "source": [
    "# Fazendo a média de uma região em específico\n",
    "\n",
    "avg_kids_southeast = medical_insurance.loc[medical_insurance.region == 'southeast'].children.mean()\n",
    "southeast = medical_insurance.loc[medical_insurance.region == 'southeast'].sex.count()\n",
    "avg_price_southeast = round(medical_insurance.loc[medical_insurance.region == 'southeast'].charges.mean(), 2)\n",
    "print(f\"A média de filhos na região Sudeste é: {avg_kids_southeast}, {southeast}, ${avg_price_southeast}\")"
   ]
  },
  {
   "cell_type": "code",
   "execution_count": 19,
   "id": "1be3fe58",
   "metadata": {},
   "outputs": [
    {
     "name": "stdout",
     "output_type": "stream",
     "text": [
      "A média de filhos na região Sudoeste é: 1.1415384615384616, $12346.94\n"
     ]
    }
   ],
   "source": [
    "avg_kids_southwest = medical_insurance.loc[medical_insurance.region == 'southwest'].children.mean()\n",
    "avg_price_southwest = round(medical_insurance.loc[medical_insurance.region == 'southwest'].charges.mean(), 2)\n",
    "print(f\"A média de filhos na região Sudoeste é: {avg_kids_southwest}, ${avg_price_southwest}\")"
   ]
  },
  {
   "cell_type": "code",
   "execution_count": 20,
   "id": "6f3f88a1",
   "metadata": {},
   "outputs": [
    {
     "name": "stdout",
     "output_type": "stream",
     "text": [
      "A média de filhos na região Nordeste é: 1.0462962962962963, 324, $13406.38\n"
     ]
    }
   ],
   "source": [
    "avg_kids_northeast = medical_insurance.loc[medical_insurance.region == 'northeast'].children.mean()\n",
    "northeast = medical_insurance.loc[medical_insurance.region == 'northeast'].children.count()\n",
    "avg_price_northeast = round(medical_insurance.loc[medical_insurance.region == 'northeast'].charges.mean(), 2)\n",
    "print(f\"A média de filhos na região Nordeste é: {avg_kids_northeast}, {northeast}, ${avg_price_northeast}\")"
   ]
  },
  {
   "cell_type": "code",
   "execution_count": 22,
   "id": "4cff9c63",
   "metadata": {},
   "outputs": [
    {
     "name": "stdout",
     "output_type": "stream",
     "text": [
      "A média de filhos na região Noroeste é: 1.1476923076923078, $12417.58\n"
     ]
    }
   ],
   "source": [
    "avg_kids_northwest = medical_insurance.loc[medical_insurance.region == 'northwest'].children.mean()\n",
    "avg_price_northwest = round(medical_insurance.loc[medical_insurance.region == 'northwest'].charges.mean(), 2)\n",
    "print(f\"A média de filhos na região Noroeste é: {avg_kids_northwest}, ${avg_price_northwest}\")"
   ]
  },
  {
   "cell_type": "code",
   "execution_count": 23,
   "id": "c330e8fb",
   "metadata": {},
   "outputs": [
    {
     "data": {
      "text/plain": [
       "32050.23183153284"
      ]
     },
     "execution_count": 23,
     "metadata": {},
     "output_type": "execute_result"
    }
   ],
   "source": [
    "smoker_charges = medical_insurance.loc[medical_insurance.smoker == 'yes'].charges.mean()\n",
    "smoker_charges"
   ]
  },
  {
   "cell_type": "code",
   "execution_count": 24,
   "id": "cffbc901",
   "metadata": {},
   "outputs": [
    {
     "data": {
      "text/plain": [
       "8434.268297856204"
      ]
     },
     "execution_count": 24,
     "metadata": {},
     "output_type": "execute_result"
    }
   ],
   "source": [
    "non_smoker_charges = medical_insurance.loc[medical_insurance.smoker == 'no'].charges.mean()\n",
    "non_smoker_charges"
   ]
  },
  {
   "cell_type": "code",
   "execution_count": 28,
   "id": "6f21b9e1",
   "metadata": {},
   "outputs": [
    {
     "data": {
      "text/plain": [
       "8852.200585"
      ]
     },
     "execution_count": 28,
     "metadata": {},
     "output_type": "execute_result"
    }
   ],
   "source": [
    "underweight = medical_insurance.loc[medical_insurance.bmi < 18.5].charges.mean()\n",
    "underweight"
   ]
  },
  {
   "cell_type": "code",
   "execution_count": 34,
   "id": "372226b6",
   "metadata": {},
   "outputs": [
    {
     "data": {
      "text/plain": [
       "10409.337708977777"
      ]
     },
     "execution_count": 34,
     "metadata": {},
     "output_type": "execute_result"
    }
   ],
   "source": [
    "normal = medical_insurance.loc[(medical_insurance.bmi >= 18.5) & (medical_insurance.bmi < 25)].charges.mean()\n",
    "normal"
   ]
  },
  {
   "cell_type": "code",
   "execution_count": 35,
   "id": "02a2101c",
   "metadata": {},
   "outputs": [
    {
     "data": {
      "text/plain": [
       "10987.509891318654"
      ]
     },
     "execution_count": 35,
     "metadata": {},
     "output_type": "execute_result"
    }
   ],
   "source": [
    "overweight = medical_insurance.loc[(medical_insurance.bmi >= 25) & (medical_insurance.bmi < 30)].charges.mean()\n",
    "overweight"
   ]
  },
  {
   "cell_type": "code",
   "execution_count": 36,
   "id": "23715e71",
   "metadata": {},
   "outputs": [
    {
     "data": {
      "text/plain": [
       "14419.674969693097"
      ]
     },
     "execution_count": 36,
     "metadata": {},
     "output_type": "execute_result"
    }
   ],
   "source": [
    "obese = medical_insurance.loc[(medical_insurance.bmi >= 30) & (medical_insurance.bmi < 35)].charges.mean()\n",
    "obese"
   ]
  },
  {
   "cell_type": "code",
   "execution_count": 37,
   "id": "441c8f78",
   "metadata": {},
   "outputs": [
    {
     "data": {
      "text/plain": [
       "16953.82361816456"
      ]
     },
     "execution_count": 37,
     "metadata": {},
     "output_type": "execute_result"
    }
   ],
   "source": [
    "xtrm_obese = medical_insurance.loc[(medical_insurance.bmi >= 35)].charges.mean()\n",
    "xtrm_obese"
   ]
  },
  {
   "cell_type": "code",
   "execution_count": 41,
   "id": "c93076bf",
   "metadata": {},
   "outputs": [
    {
     "data": {
      "text/html": [
       "<div>\n",
       "<style scoped>\n",
       "    .dataframe tbody tr th:only-of-type {\n",
       "        vertical-align: middle;\n",
       "    }\n",
       "\n",
       "    .dataframe tbody tr th {\n",
       "        vertical-align: top;\n",
       "    }\n",
       "\n",
       "    .dataframe thead th {\n",
       "        text-align: right;\n",
       "    }\n",
       "</style>\n",
       "<table border=\"1\" class=\"dataframe\">\n",
       "  <thead>\n",
       "    <tr style=\"text-align: right;\">\n",
       "      <th></th>\n",
       "      <th>age</th>\n",
       "      <th>sex</th>\n",
       "      <th>bmi</th>\n",
       "      <th>children</th>\n",
       "      <th>smoker</th>\n",
       "      <th>region</th>\n",
       "      <th>charges</th>\n",
       "    </tr>\n",
       "  </thead>\n",
       "  <tbody>\n",
       "    <tr>\n",
       "      <th>543</th>\n",
       "      <td>54</td>\n",
       "      <td>female</td>\n",
       "      <td>47.41</td>\n",
       "      <td>0</td>\n",
       "      <td>yes</td>\n",
       "      <td>southeast</td>\n",
       "      <td>63770.42801</td>\n",
       "    </tr>\n",
       "  </tbody>\n",
       "</table>\n",
       "</div>"
      ],
      "text/plain": [
       "     age     sex    bmi  children smoker     region      charges\n",
       "543   54  female  47.41         0    yes  southeast  63770.42801"
      ]
     },
     "execution_count": 41,
     "metadata": {},
     "output_type": "execute_result"
    }
   ],
   "source": [
    "max_price = medical_insurance.charges.max()\n",
    "id_max = medical_insurance.loc[(medical_insurance.charges == max_price)]\n",
    "id_max"
   ]
  },
  {
   "cell_type": "code",
   "execution_count": 42,
   "id": "b06ca735",
   "metadata": {},
   "outputs": [
    {
     "data": {
      "text/plain": [
       "12110.011236693994"
      ]
     },
     "execution_count": 42,
     "metadata": {},
     "output_type": "execute_result"
    }
   ],
   "source": [
    "charges_std_dev = medical_insurance.charges.std()\n",
    "charges_std_dev"
   ]
  },
  {
   "cell_type": "code",
   "execution_count": 43,
   "id": "54ad6d3a",
   "metadata": {},
   "outputs": [
    {
     "data": {
      "text/plain": [
       "11541.547175589121"
      ]
     },
     "execution_count": 43,
     "metadata": {},
     "output_type": "execute_result"
    }
   ],
   "source": [
    "smoker_charges_std_dev = medical_insurance.loc[medical_insurance.smoker == 'yes'].charges.std()\n",
    "smoker_charges_std_dev"
   ]
  },
  {
   "cell_type": "code",
   "execution_count": 44,
   "id": "a6cdd01e",
   "metadata": {},
   "outputs": [
    {
     "data": {
      "text/plain": [
       "5993.781819194933"
      ]
     },
     "execution_count": 44,
     "metadata": {},
     "output_type": "execute_result"
    }
   ],
   "source": [
    "non_smoker_charges_std_dev = medical_insurance.loc[medical_insurance.smoker == 'no'].charges.std()\n",
    "non_smoker_charges_std_dev"
   ]
  },
  {
   "cell_type": "code",
   "execution_count": 45,
   "id": "974931be",
   "metadata": {},
   "outputs": [
    {
     "data": {
      "text/plain": [
       "19839.27830854546"
      ]
     },
     "execution_count": 45,
     "metadata": {},
     "output_type": "execute_result"
    }
   ],
   "source": [
    "low_bmi_smoker_charges_mean = medical_insurance.loc[(medical_insurance.smoker == 'yes') &\n",
    "                                                    (medical_insurance.bmi < 25)].charges.mean()\n",
    "low_bmi_smoker_charges_mean"
   ]
  },
  {
   "cell_type": "code",
   "execution_count": 46,
   "id": "7d4e8b64",
   "metadata": {},
   "outputs": [
    {
     "data": {
      "text/plain": [
       "35116.90965694064"
      ]
     },
     "execution_count": 46,
     "metadata": {},
     "output_type": "execute_result"
    }
   ],
   "source": [
    "high_bmi_smoker_charges_mean = medical_insurance.loc[(medical_insurance.smoker == 'yes') &\n",
    "                                                    (medical_insurance.bmi > 25)].charges.mean()\n",
    "high_bmi_smoker_charges_mean"
   ]
  },
  {
   "cell_type": "code",
   "execution_count": 48,
   "id": "cc49f02c",
   "metadata": {},
   "outputs": [
    {
     "data": {
      "text/plain": [
       "7515.708890789475"
      ]
     },
     "execution_count": 48,
     "metadata": {},
     "output_type": "execute_result"
    }
   ],
   "source": [
    "low_bmi_non_smoker_charges_mean = medical_insurance.loc[(medical_insurance.smoker == 'no') &\n",
    "                                                    (medical_insurance.bmi < 25)].charges.mean()\n",
    "low_bmi_non_smoker_charges_mean"
   ]
  },
  {
   "cell_type": "code",
   "execution_count": 49,
   "id": "3f7051ba",
   "metadata": {},
   "outputs": [
    {
     "data": {
      "text/plain": [
       "8629.589609712157"
      ]
     },
     "execution_count": 49,
     "metadata": {},
     "output_type": "execute_result"
    }
   ],
   "source": [
    "high_bmi_non_smoker_charges_mean = medical_insurance.loc[(medical_insurance.smoker == 'no') &\n",
    "                                                    (medical_insurance.bmi > 25)].charges.mean()\n",
    "high_bmi_non_smoker_charges_mean"
   ]
  },
  {
   "cell_type": "code",
   "execution_count": 54,
   "id": "93b46f50",
   "metadata": {},
   "outputs": [
    {
     "data": {
      "text/plain": [
       "1.2429906542056075"
      ]
     },
     "execution_count": 54,
     "metadata": {},
     "output_type": "execute_result"
    }
   ],
   "source": [
    "smoker_children_mean = medical_insurance.loc[(medical_insurance.smoker == 'yes') & \n",
    "                                             (medical_insurance.age > 24)].children.mean()\n",
    "smoker_children_mean"
   ]
  },
  {
   "cell_type": "code",
   "execution_count": 55,
   "id": "584d735d",
   "metadata": {},
   "outputs": [
    {
     "data": {
      "text/plain": [
       "1.218676122931442"
      ]
     },
     "execution_count": 55,
     "metadata": {},
     "output_type": "execute_result"
    }
   ],
   "source": [
    "non_smoker_children_mean = medical_insurance.loc[(medical_insurance.smoker == 'no') & \n",
    "                                                 (medical_insurance.age > 24)].children.mean()\n",
    "non_smoker_children_mean"
   ]
  },
  {
   "cell_type": "code",
   "execution_count": 56,
   "id": "3d7abb18",
   "metadata": {},
   "outputs": [
    {
     "data": {
      "text/plain": [
       "13956.751177721893"
      ]
     },
     "execution_count": 56,
     "metadata": {},
     "output_type": "execute_result"
    }
   ],
   "source": [
    "male_charges = medical_insurance.loc[medical_insurance.sex == 'male'].charges.mean()\n",
    "male_charges"
   ]
  },
  {
   "cell_type": "code",
   "execution_count": 57,
   "id": "56ecd1e0",
   "metadata": {},
   "outputs": [
    {
     "data": {
      "text/plain": [
       "12569.578843835347"
      ]
     },
     "execution_count": 57,
     "metadata": {},
     "output_type": "execute_result"
    }
   ],
   "source": [
    "female_charges = medical_insurance.loc[medical_insurance.sex == 'female'].charges.mean()\n",
    "female_charges"
   ]
  },
  {
   "cell_type": "code",
   "execution_count": 60,
   "id": "43fdc8aa",
   "metadata": {},
   "outputs": [
    {
     "data": {
      "text/plain": [
       "24"
      ]
     },
     "execution_count": 60,
     "metadata": {},
     "output_type": "execute_result"
    }
   ],
   "source": [
    "male_smoker_count = medical_insurance.loc[(medical_insurance.sex == 'male') & \n",
    "                                    (medical_insurance.smoker == 'yes')].children.count()\n",
    "male_count = medical_insurance.loc[(medical_insurance.sex == 'male')].children.count()\n",
    "\n",
    "male_smoker_ratio = round((male_smoker_count / male_count) * 100)\n",
    "\n",
    "male_smoker_ratio"
   ]
  },
  {
   "cell_type": "code",
   "execution_count": 61,
   "id": "134ecc89",
   "metadata": {},
   "outputs": [
    {
     "data": {
      "text/plain": [
       "17"
      ]
     },
     "execution_count": 61,
     "metadata": {},
     "output_type": "execute_result"
    }
   ],
   "source": [
    "female_smoker_count = medical_insurance.loc[(medical_insurance.sex == 'female') & \n",
    "                                    (medical_insurance.smoker == 'yes')].children.count()\n",
    "female_count = medical_insurance.loc[(medical_insurance.sex == 'female')].children.count()\n",
    "\n",
    "female_smoker_ratio = round((female_smoker_count / female_count) * 100)\n",
    "\n",
    "female_smoker_ratio"
   ]
  },
  {
   "cell_type": "markdown",
   "id": "9f6b5dd4",
   "metadata": {},
   "source": [
    "#### Mediana\n",
    "\n",
    "A mediana pode ser calculada colocando os valores em rol (ordem crescente), e fazendo:\n",
    "\n",
    "- Se o n° de valores for ímpar:\n",
    "$$x = \\text {Valor Mediano}$$\n",
    "\n",
    "- Se o n° de valores for par:\n"
   ]
  },
  {
   "cell_type": "code",
   "execution_count": null,
   "id": "d8fa9846",
   "metadata": {},
   "outputs": [],
   "source": []
  },
  {
   "cell_type": "markdown",
   "id": "eb330583",
   "metadata": {},
   "source": [
    "### Medidas de Dispersão"
   ]
  },
  {
   "cell_type": "code",
   "execution_count": 2,
   "id": "f49e5f86",
   "metadata": {},
   "outputs": [],
   "source": [
    "#-Código"
   ]
  },
  {
   "cell_type": "markdown",
   "id": "0bc1a118",
   "metadata": {},
   "source": [
    "### Medidas de Posição"
   ]
  },
  {
   "cell_type": "code",
   "execution_count": 3,
   "id": "8ca0bb2a",
   "metadata": {},
   "outputs": [],
   "source": [
    "#-Código"
   ]
  },
  {
   "cell_type": "markdown",
   "id": "007fb881",
   "metadata": {},
   "source": [
    "## Análise Descritiva - Visualizações"
   ]
  },
  {
   "cell_type": "code",
   "execution_count": null,
   "id": "4f7a4d7b",
   "metadata": {},
   "outputs": [],
   "source": []
  }
 ],
 "metadata": {
  "kernelspec": {
   "display_name": "Python 3 (ipykernel)",
   "language": "python",
   "name": "python3"
  },
  "language_info": {
   "codemirror_mode": {
    "name": "ipython",
    "version": 3
   },
   "file_extension": ".py",
   "mimetype": "text/x-python",
   "name": "python",
   "nbconvert_exporter": "python",
   "pygments_lexer": "ipython3",
   "version": "3.10.9"
  }
 },
 "nbformat": 4,
 "nbformat_minor": 5
}
