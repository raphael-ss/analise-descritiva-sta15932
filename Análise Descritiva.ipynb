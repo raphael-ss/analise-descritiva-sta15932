{
 "cells": [
  {
   "cell_type": "markdown",
   "id": "32d0db1b",
   "metadata": {},
   "source": [
    "# Análise Descritiva - Dados do Seguro Médico nos EUA\n",
    "\n",
    "\n",
    "### *\"Como os fatores demográficos e comportamentais afetam o preço do seguro médico nos EUA\"*\n",
    "\n",
    "Primeiro, devemos observar como está estruturado o conjunto de dados:"
   ]
  },
  {
   "cell_type": "code",
   "execution_count": 4,
   "id": "2af80f55",
   "metadata": {},
   "outputs": [
    {
     "name": "stdout",
     "output_type": "stream",
     "text": [
      "      age     sex     bmi  children smoker     region      charges\n",
      "0      19  female  27.900         0    yes  southwest  16884.92400\n",
      "1      18    male  33.770         1     no  southeast   1725.55230\n",
      "2      28    male  33.000         3     no  southeast   4449.46200\n",
      "3      33    male  22.705         0     no  northwest  21984.47061\n",
      "4      32    male  28.880         0     no  northwest   3866.85520\n",
      "...   ...     ...     ...       ...    ...        ...          ...\n",
      "1333   50    male  30.970         3     no  northwest  10600.54830\n",
      "1334   18  female  31.920         0     no  northeast   2205.98080\n",
      "1335   18  female  36.850         0     no  southeast   1629.83350\n",
      "1336   21  female  25.800         0     no  southwest   2007.94500\n",
      "1337   61  female  29.070         0    yes  northwest  29141.36030\n",
      "\n",
      "[1338 rows x 7 columns]\n"
     ]
    }
   ],
   "source": [
    "import matplotlib.pyplot as plt\n",
    "import pandas as pd\n",
    "\n",
    "df = pd.read_csv('insurance.csv')\n",
    "print(df)"
   ]
  },
  {
   "cell_type": "markdown",
   "id": "cdf9360f",
   "metadata": {},
   "source": [
    "O conjunto possui 1338 registros ou linhas, e 7 colunas.\n",
    "Possui 4 variáveis numéricas/quantitativas, sendo 2 delas discretas e 2 contínuas, e 3 variáveis categóricas/qualitativas.\n",
    "\n",
    "## Análise Descritiva - Métricas\n",
    "\n",
    "### Medidas de Tendência Central\n",
    "\n",
    "#### Média\n",
    "\n",
    "A média pode ser calculada por: \n",
    "\n",
    "$$\\overline{x}=\\frac{1}{n} \\sum_{i=1}^{n} x_{i}=\\frac{1}{n}\\left(x_{1}+\\cdots+x_{n}\\right)$$"
   ]
  },
  {
   "cell_type": "code",
   "execution_count": 1,
   "id": "646df266",
   "metadata": {},
   "outputs": [],
   "source": [
    "#-Código"
   ]
  },
  {
   "cell_type": "markdown",
   "id": "eb330583",
   "metadata": {},
   "source": [
    "### Medidas de Dispersão"
   ]
  },
  {
   "cell_type": "code",
   "execution_count": 2,
   "id": "f49e5f86",
   "metadata": {},
   "outputs": [],
   "source": [
    "#-Código"
   ]
  },
  {
   "cell_type": "markdown",
   "id": "0bc1a118",
   "metadata": {},
   "source": [
    "### Medidas de Posição"
   ]
  },
  {
   "cell_type": "code",
   "execution_count": 3,
   "id": "8ca0bb2a",
   "metadata": {},
   "outputs": [],
   "source": [
    "#-Código"
   ]
  },
  {
   "cell_type": "markdown",
   "id": "007fb881",
   "metadata": {},
   "source": [
    "## Análise Descritiva - Visualizações"
   ]
  },
  {
   "cell_type": "code",
   "execution_count": null,
   "id": "4f7a4d7b",
   "metadata": {},
   "outputs": [],
   "source": []
  }
 ],
 "metadata": {
  "kernelspec": {
   "display_name": "Python 3 (ipykernel)",
   "language": "python",
   "name": "python3"
  },
  "language_info": {
   "codemirror_mode": {
    "name": "ipython",
    "version": 3
   },
   "file_extension": ".py",
   "mimetype": "text/x-python",
   "name": "python",
   "nbconvert_exporter": "python",
   "pygments_lexer": "ipython3",
   "version": "3.10.9"
  }
 },
 "nbformat": 4,
 "nbformat_minor": 5
}
